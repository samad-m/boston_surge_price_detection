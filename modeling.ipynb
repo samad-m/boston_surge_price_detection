{
 "cells": [
  {
   "cell_type": "markdown",
   "metadata": {
    "heading_collapsed": true
   },
   "source": [
    "## Loading Data and Modules"
   ]
  },
  {
   "cell_type": "code",
   "execution_count": 28,
   "metadata": {
    "hidden": true
   },
   "outputs": [],
   "source": [
    "import pandas as pd\n",
    "import numpy as np\n",
    "import matplotlib.pyplot as plt\n",
    "import seaborn as sns\n",
    "\n",
    "plt.style.use('fivethirtyeight')\n",
    "%matplotlib inline\n",
    "np.set_printoptions(suppress=True) # Suppress scientific notation where possible\n",
    "pd.set_option('display.max_columns', None)  # No limit on number of columns displayed\n",
    "\n",
    "import pickle  # Pickle dataframe to use in other project file\n",
    "\n",
    "# modeling imports\n",
    "from sklearn.linear_model import LogisticRegression\n",
    "from sklearn.neighbors import KNeighborsClassifier\n",
    "from sklearn.model_selection import train_test_split, cross_val_score, RandomizedSearchCV\n",
    "from sklearn.metrics import precision_score, recall_score, accuracy_score, f1_score, roc_auc_score, roc_curve\n",
    "from sklearn.metrics import confusion_matrix\n",
    "from sklearn.preprocessing import StandardScaler\n",
    "from sklearn.naive_bayes import GaussianNB\n",
    "from sklearn.svm import SVC\n",
    "from sklearn.tree import DecisionTreeClassifier\n",
    "from sklearn.ensemble import RandomForestClassifier\n",
    "from sklearn.utils import resample  # For handling class imbalances\n",
    "\n",
    "import xgboost as xgb  # Gradient boosting classifier"
   ]
  },
  {
   "cell_type": "code",
   "execution_count": 2,
   "metadata": {
    "hidden": true
   },
   "outputs": [],
   "source": [
    "# Unpickle the df\n",
    "with open('rideshare_df_100pct.pkl', 'rb') as picklefile: \n",
    "    df = pickle.load(picklefile)"
   ]
  },
  {
   "cell_type": "markdown",
   "metadata": {
    "heading_collapsed": true
   },
   "source": [
    "## Remove Destination Columns\n",
    "Destination columns don't contribute to surge pricing, so no need to include them"
   ]
  },
  {
   "cell_type": "code",
   "execution_count": 3,
   "metadata": {
    "hidden": true
   },
   "outputs": [],
   "source": [
    "df = pd.concat([df.iloc[:, 0:12], df.iloc[:, 24:]], axis=1)"
   ]
  },
  {
   "cell_type": "markdown",
   "metadata": {
    "heading_collapsed": true
   },
   "source": [
    "## Fix Duplicate Lyft Columns"
   ]
  },
  {
   "cell_type": "code",
   "execution_count": 4,
   "metadata": {
    "hidden": true
   },
   "outputs": [
    {
     "data": {
      "text/html": [
       "<div>\n",
       "<style scoped>\n",
       "    .dataframe tbody tr th:only-of-type {\n",
       "        vertical-align: middle;\n",
       "    }\n",
       "\n",
       "    .dataframe tbody tr th {\n",
       "        vertical-align: top;\n",
       "    }\n",
       "\n",
       "    .dataframe thead th {\n",
       "        text-align: right;\n",
       "    }\n",
       "</style>\n",
       "<table border=\"1\" class=\"dataframe\">\n",
       "  <thead>\n",
       "    <tr style=\"text-align: right;\">\n",
       "      <th></th>\n",
       "      <th>distance</th>\n",
       "      <th>surge_multiplier</th>\n",
       "      <th>day</th>\n",
       "      <th>day_minutes</th>\n",
       "      <th>temp</th>\n",
       "      <th>clouds</th>\n",
       "      <th>pressure</th>\n",
       "      <th>rain</th>\n",
       "      <th>humidity</th>\n",
       "      <th>wind</th>\n",
       "      <th>Lyft</th>\n",
       "      <th>Uber</th>\n",
       "      <th>Back Bay</th>\n",
       "      <th>Beacon Hill</th>\n",
       "      <th>Boston University</th>\n",
       "      <th>Fenway</th>\n",
       "      <th>Financial District</th>\n",
       "      <th>Haymarket Square</th>\n",
       "      <th>North End</th>\n",
       "      <th>North Station</th>\n",
       "      <th>Northeastern University</th>\n",
       "      <th>South Station</th>\n",
       "      <th>Theatre District</th>\n",
       "      <th>West End</th>\n",
       "      <th>Black</th>\n",
       "      <th>Black SUV</th>\n",
       "      <th>Lux</th>\n",
       "      <th>Lux Black</th>\n",
       "      <th>Lux Black XL</th>\n",
       "      <th>Lyft Basic</th>\n",
       "      <th>Lyft XL</th>\n",
       "      <th>Shared</th>\n",
       "      <th>Taxi</th>\n",
       "      <th>UberPool</th>\n",
       "      <th>UberX</th>\n",
       "      <th>UberXL</th>\n",
       "      <th>WAV</th>\n",
       "      <th>december</th>\n",
       "      <th>november</th>\n",
       "      <th>fri</th>\n",
       "      <th>mon</th>\n",
       "      <th>sat</th>\n",
       "      <th>sun</th>\n",
       "      <th>thu</th>\n",
       "      <th>tue</th>\n",
       "      <th>wed</th>\n",
       "    </tr>\n",
       "  </thead>\n",
       "  <tbody>\n",
       "    <tr>\n",
       "      <th>0</th>\n",
       "      <td>1.22</td>\n",
       "      <td>0</td>\n",
       "      <td>29.0</td>\n",
       "      <td>193.0</td>\n",
       "      <td>38.07</td>\n",
       "      <td>0.8</td>\n",
       "      <td>1000.94</td>\n",
       "      <td>0.0</td>\n",
       "      <td>0.69</td>\n",
       "      <td>9.86</td>\n",
       "      <td>0</td>\n",
       "      <td>1</td>\n",
       "      <td>1</td>\n",
       "      <td>0</td>\n",
       "      <td>0</td>\n",
       "      <td>0</td>\n",
       "      <td>0</td>\n",
       "      <td>0</td>\n",
       "      <td>0</td>\n",
       "      <td>0</td>\n",
       "      <td>0</td>\n",
       "      <td>0</td>\n",
       "      <td>0</td>\n",
       "      <td>0</td>\n",
       "      <td>0</td>\n",
       "      <td>0</td>\n",
       "      <td>0</td>\n",
       "      <td>0</td>\n",
       "      <td>0</td>\n",
       "      <td>0</td>\n",
       "      <td>0</td>\n",
       "      <td>0</td>\n",
       "      <td>0</td>\n",
       "      <td>1</td>\n",
       "      <td>0</td>\n",
       "      <td>0</td>\n",
       "      <td>0</td>\n",
       "      <td>0</td>\n",
       "      <td>1</td>\n",
       "      <td>0</td>\n",
       "      <td>0</td>\n",
       "      <td>0</td>\n",
       "      <td>0</td>\n",
       "      <td>1</td>\n",
       "      <td>0</td>\n",
       "      <td>0</td>\n",
       "    </tr>\n",
       "  </tbody>\n",
       "</table>\n",
       "</div>"
      ],
      "text/plain": [
       "   distance  surge_multiplier   day  day_minutes   temp  clouds  pressure  \\\n",
       "0      1.22                 0  29.0        193.0  38.07     0.8   1000.94   \n",
       "\n",
       "   rain  humidity  wind  Lyft  Uber  Back Bay  Beacon Hill  Boston University  \\\n",
       "0   0.0      0.69  9.86     0     1         1            0                  0   \n",
       "\n",
       "   Fenway  Financial District  Haymarket Square  North End  North Station  \\\n",
       "0       0                   0                 0          0              0   \n",
       "\n",
       "   Northeastern University  South Station  Theatre District  West End  Black  \\\n",
       "0                        0              0                 0         0      0   \n",
       "\n",
       "   Black SUV  Lux  Lux Black  Lux Black XL  Lyft Basic  Lyft XL  Shared  Taxi  \\\n",
       "0          0    0          0             0           0        0       0     0   \n",
       "\n",
       "   UberPool  UberX  UberXL  WAV  december  november  fri  mon  sat  sun  thu  \\\n",
       "0         1      0       0    0         0         1    0    0    0    0    1   \n",
       "\n",
       "   tue  wed  \n",
       "0    0    0  "
      ]
     },
     "execution_count": 4,
     "metadata": {},
     "output_type": "execute_result"
    }
   ],
   "source": [
    "# Rename 'Lyft' ride type to 'Lyft Basic'\n",
    "# 'Lyft' (service) is unchanged\n",
    "\n",
    "df1 = df.iloc[:, 0:29]\n",
    "df2 = df.iloc[:, 29:]\n",
    "df2.rename(columns={'Lyft': 'Lyft Basic'}, inplace=True)\n",
    "df = pd.concat([df1, df2], axis=1)\n",
    "df.head(1)"
   ]
  },
  {
   "cell_type": "markdown",
   "metadata": {
    "heading_collapsed": true
   },
   "source": [
    "## Create DF for Feature Testing"
   ]
  },
  {
   "cell_type": "code",
   "execution_count": 5,
   "metadata": {
    "hidden": true
   },
   "outputs": [],
   "source": [
    "# df_features_eng is a copy of df. Used to manipulate features\n",
    "df_feature_eng = df.copy()"
   ]
  },
  {
   "cell_type": "markdown",
   "metadata": {},
   "source": [
    "## Feature Engineer - Examine Recent Rides"
   ]
  },
  {
   "cell_type": "markdown",
   "metadata": {},
   "source": [
    "We have no overlap on day numbers between November and December:"
   ]
  },
  {
   "cell_type": "code",
   "execution_count": 6,
   "metadata": {
    "collapsed": true
   },
   "outputs": [
    {
     "data": {
      "text/plain": [
       "december  day \n",
       "0         25.0      504\n",
       "          26.0    47931\n",
       "          27.0    63173\n",
       "          28.0    94544\n",
       "          29.0    44581\n",
       "          30.0    45396\n",
       "1         1.0     44928\n",
       "          2.0     44928\n",
       "          3.0     44772\n",
       "          4.0      3432\n",
       "          9.0      4447\n",
       "          12.0     3120\n",
       "          13.0    44771\n",
       "          14.0    44928\n",
       "          15.0    44928\n",
       "          16.0    44928\n",
       "          17.0    44928\n",
       "          18.0    26832\n",
       "dtype: int64"
      ]
     },
     "execution_count": 6,
     "metadata": {},
     "output_type": "execute_result"
    }
   ],
   "source": [
    "df_feature_eng.groupby(['december', 'day']).size()"
   ]
  },
  {
   "cell_type": "markdown",
   "metadata": {},
   "source": [
    "Trying to find cab rides in the past recent_minutes"
   ]
  },
  {
   "cell_type": "markdown",
   "metadata": {},
   "source": [
    "### Add `recent_rides` column"
   ]
  },
  {
   "cell_type": "code",
   "execution_count": 7,
   "metadata": {},
   "outputs": [],
   "source": [
    "# Re-add 'location' column using the dummy variable location columns\n",
    "def get_location_column(df):\n",
    "    locations = ['Back Bay', 'Beacon Hill', 'Boston University', 'Fenway', 'Financial District',\n",
    "                   'Haymarket Square', 'North End', 'North Station', 'Northeastern University',\n",
    "                    'South Station', 'Theatre District', 'West End']\n",
    "    \n",
    "    # Create df where the location columns are all stacked as an index\n",
    "    df_loc = df[locations].stack()\n",
    "    \n",
    "    # Find the location for every row, reset index, then drop columns 'level_0' and 0\n",
    "    df_loc = df_loc[df_loc == 1].reset_index().drop(['level_0',0],axis=1)\n",
    "    \n",
    "    # Concat location column back to df\n",
    "    df_return = pd.concat([df, df_loc], axis=1)\n",
    "    \n",
    "    # Rename new column to 'location'\n",
    "    df_return.rename(columns = {'level_1': 'location'}, inplace=True)\n",
    "    \n",
    "    return df_return"
   ]
  },
  {
   "cell_type": "code",
   "execution_count": 8,
   "metadata": {},
   "outputs": [],
   "source": [
    "# Insert column 'num_recent_rides' for every row. Represents number of rides that have occurred\n",
    "# within the past 'recent_ride_time'\n",
    "\n",
    "def get_recent_rides(df, recent_ride_time):\n",
    "    \n",
    "    locations = ['Back Bay', 'Beacon Hill', 'Boston University', 'Fenway', 'Financial District',\n",
    "                   'Haymarket Square', 'North End', 'North Station', 'Northeastern University',\n",
    "                   'South Station', 'Theatre District', 'West End']\n",
    "    \n",
    "    df = get_location_column(df)\n",
    "    \n",
    "    for location in locations:\n",
    "        \n",
    "        # Create df_ride_data to contain the info we need from df\n",
    "        df_ride_data = df[['Uber', 'day', 'day_minutes', 'location']]\n",
    "\n",
    "        # If 1 in column, it's an Uber. If 0, a Lyft\n",
    "        df_ride_data.rename(columns={'Uber': 'uber1_lyft0'}, inplace=True)\n",
    "        \n",
    "        # Find all rows where location is 'location'\n",
    "        df_ride_data = df_ride_data[df_ride_data.location == location]\n",
    "    \n",
    "        # Merge df_ride_data with itself on columns 'location', 'day', and 'uber1_lyft0'\n",
    "        df_merged = df_ride_data.merge(df_ride_data, on=['uber1_lyft0', 'location', 'day'])\n",
    "    \n",
    "        # Find all occurrences in df_merged where the time difference between the current ride and \n",
    "        # the last is < 'recent_ride_time' mins\n",
    "        # Current and last ride are both Uber/Lyft, at the same location, and at the same day\n",
    "        df_time_diff = df_merged[\n",
    "            ((df_merged.day_minutes_x - df_merged.day_minutes_y) < recent_ride_time) & \n",
    "            ((df_merged.day_minutes_x - df_merged.day_minutes_y) > 0)]\n",
    "        \n",
    "        # Groupby location, whether it's Uber/Lyft, day, and the day_minutes\n",
    "        df_recent_rides = df_time_diff.groupby(['location', 'uber1_lyft0', 'day', 'day_minutes_x']).count().reset_index()\n",
    "        \n",
    "        # Rename columns so that we can merge data back into df\n",
    "        df_recent_rides.rename(columns={'day_minutes_x': 'day_minutes'}, inplace=True)\n",
    "        df_recent_rides.rename(columns={'day_minutes_y': 'num_recent_rides'}, inplace=True)\n",
    "        df_recent_rides.rename(columns={'uber1_lyft0': 'Uber'}, inplace=True)\n",
    "        \n",
    "        # Merge df of recent rides back into df\n",
    "        df_merged_recent_rides = df.merge(df_recent_rides, on=['location', 'Uber', 'day', 'day_minutes'])\n",
    "        \n",
    "        # Keep building up the return_df for each iteration\n",
    "        if location == 'Back Bay':\n",
    "            return_df = df_merged_recent_rides\n",
    "        else:\n",
    "            return_df = pd.concat([return_df, df_merged_recent_rides])\n",
    "    \n",
    "    # Drop the 'location' column that was added, so that we only have dummy variable location columns\n",
    "    return_df.drop(columns='location', inplace=True)\n",
    "    \n",
    "    return return_df\n"
   ]
  },
  {
   "cell_type": "code",
   "execution_count": 9,
   "metadata": {},
   "outputs": [
    {
     "name": "stderr",
     "output_type": "stream",
     "text": [
      "/Users/samad/anaconda3/lib/python3.7/site-packages/pandas/core/frame.py:4025: SettingWithCopyWarning: \n",
      "A value is trying to be set on a copy of a slice from a DataFrame\n",
      "\n",
      "See the caveats in the documentation: http://pandas.pydata.org/pandas-docs/stable/indexing.html#indexing-view-versus-copy\n",
      "  return super(DataFrame, self).rename(**kwargs)\n"
     ]
    }
   ],
   "source": [
    "# Get num_recent_rides in the past 10 minutes\n",
    "# Do it for every ride\n",
    "df_feature_eng = get_recent_rides(df, 10)"
   ]
  },
  {
   "cell_type": "markdown",
   "metadata": {},
   "source": [
    "## Feature Engineer - Circular Time"
   ]
  },
  {
   "cell_type": "code",
   "execution_count": 10,
   "metadata": {},
   "outputs": [],
   "source": [
    "# Make time on a continuous scale (23:59 goes to 24:00)\n",
    "df_feature_eng['day_minutes_sin'] = np.sin(df_feature_eng.day_minutes*(2.*np.pi/1440))  # 1440 mins in a day\n",
    "df_feature_eng['day_minutes_cos'] = np.cos(df_feature_eng.day_minutes*(2.*np.pi/1440))\n",
    "df_feature_eng.drop(['day_minutes'], axis=1, inplace=True)"
   ]
  },
  {
   "cell_type": "markdown",
   "metadata": {},
   "source": [
    "## Feature Engineer - Weather"
   ]
  },
  {
   "cell_type": "code",
   "execution_count": 11,
   "metadata": {},
   "outputs": [],
   "source": [
    "# Drop 'temp' and 'wind' since the pairplot distributions for surge and no surge are very similar for them\n",
    "df_feature_eng.drop(['temp', 'wind'], axis=1, inplace=True)"
   ]
  },
  {
   "cell_type": "markdown",
   "metadata": {},
   "source": [
    "## Feature Engineer - Game Day"
   ]
  },
  {
   "cell_type": "code",
   "execution_count": 12,
   "metadata": {},
   "outputs": [],
   "source": [
    "# Create a game_day column, and write '1' if there's a celtics/patriots game that day\n",
    "def get_game_day(day):\n",
    "    \n",
    "    # Set of game days (celtics and/or patriots)\n",
    "    game_days = {30, 2, 14, 16}\n",
    "    \n",
    "    if day in game_days:\n",
    "        return 1\n",
    "    else:\n",
    "        return 0"
   ]
  },
  {
   "cell_type": "code",
   "execution_count": 13,
   "metadata": {},
   "outputs": [],
   "source": [
    "# Create game_day column\n",
    "df_feature_eng['game_day'] = df_feature_eng.day.apply(get_game_day)"
   ]
  },
  {
   "cell_type": "markdown",
   "metadata": {},
   "source": [
    "# Train Test Split Dataset\n",
    "_NOTE: Always split into train, test, and validation data before handling class imbalance using under/oversampling!_"
   ]
  },
  {
   "cell_type": "code",
   "execution_count": 14,
   "metadata": {},
   "outputs": [],
   "source": [
    "# Split data into train and test sets. 80/20 split\n",
    "X_train_val, X_test, y_train_val, y_test = train_test_split(df_feature_eng.drop(['surge_multiplier'], axis=1),  # Features are everything\n",
    "                                                                                                    # except 'surge_multiplier'\n",
    "                                                    df_feature_eng['surge_multiplier'],  # Target data is 'surge_multiplier' (1/0)\n",
    "                                                    test_size = 0.2, random_state=4444)"
   ]
  },
  {
   "cell_type": "code",
   "execution_count": 15,
   "metadata": {},
   "outputs": [],
   "source": [
    "# Split data into val and train sets. 80/20 split\n",
    "X_train, X_val, y_train, y_val = train_test_split(X_train_val,  # Features are everything except 'surge_multiplier'\n",
    "                                                  y_train_val,  # Target data is 'surge_multiplier' (1/0)\n",
    "                                                  test_size = 0.2, random_state=4444)"
   ]
  },
  {
   "cell_type": "code",
   "execution_count": 16,
   "metadata": {},
   "outputs": [
    {
     "data": {
      "text/plain": [
       "Index(['distance', 'day', 'clouds', 'pressure', 'rain', 'humidity', 'Lyft',\n",
       "       'Uber', 'Back Bay', 'Beacon Hill', 'Boston University', 'Fenway',\n",
       "       'Financial District', 'Haymarket Square', 'North End', 'North Station',\n",
       "       'Northeastern University', 'South Station', 'Theatre District',\n",
       "       'West End', 'Black', 'Black SUV', 'Lux', 'Lux Black', 'Lux Black XL',\n",
       "       'Lyft Basic', 'Lyft XL', 'Shared', 'Taxi', 'UberPool', 'UberX',\n",
       "       'UberXL', 'WAV', 'december', 'november', 'fri', 'mon', 'sat', 'sun',\n",
       "       'thu', 'tue', 'wed', 'num_recent_rides', 'day_minutes_sin',\n",
       "       'day_minutes_cos', 'game_day'],\n",
       "      dtype='object')"
      ]
     },
     "execution_count": 16,
     "metadata": {},
     "output_type": "execute_result"
    }
   ],
   "source": [
    "X_train.columns"
   ]
  },
  {
   "cell_type": "markdown",
   "metadata": {
    "heading_collapsed": true
   },
   "source": [
    "# Examine Rain's Effect on Target"
   ]
  },
  {
   "cell_type": "code",
   "execution_count": 40,
   "metadata": {
    "hidden": true
   },
   "outputs": [],
   "source": [
    "# Number of rides where there was rain and surge pricing\n",
    "num_rain_surge = len(df[(df.surge_multiplier == 1) & (df.rain > 0)])\n",
    "\n",
    "# Number of rides there was no rain and surge pricing\n",
    "num_norain_surge = len(df[(df.surge_multiplier == 1) & (df.rain == 0)])\n",
    "\n",
    "# Number of rides there was rain and no surge pricing\n",
    "num_rain_nosurge = len(df[(df.surge_multiplier == 0) & (df.rain > 0)])\n",
    "\n",
    "# Number of rides there was no rain and no surge pricing\n",
    "num_norain_nosurge = len(df[(df.surge_multiplier == 0) & (df.rain == 0)])"
   ]
  },
  {
   "cell_type": "code",
   "execution_count": 45,
   "metadata": {
    "hidden": true
   },
   "outputs": [
    {
     "name": "stdout",
     "output_type": "stream",
     "text": [
      "0.029531636910210334 0.030392815688191094\n"
     ]
    },
    {
     "data": {
      "text/plain": [
       "<BarContainer object of 2 artists>"
      ]
     },
     "execution_count": 45,
     "metadata": {},
     "output_type": "execute_result"
    },
    {
     "data": {
      "image/png": "[encoded data removed]",
      "text/plain": [
       "<Figure size 432x288 with 1 Axes>"
      ]
     },
     "metadata": {
      "needs_background": "light"
     },
     "output_type": "display_data"
    }
   ],
   "source": [
    "surge_rate_rain = num_rain_surge / (num_rain_surge + num_rain_nosurge)\n",
    "surge_rate_norain = num_norain_surge / (num_norain_surge + num_norain_nosurge)\n",
    "\n",
    "print(surge_rate_rain, surge_rate_norain)\n",
    "\n",
    "plt.bar(x=['Rain', 'No Rain'],\n",
    "        height=[surge_rate_rain, surge_rate_norain])"
   ]
  },
  {
   "cell_type": "markdown",
   "metadata": {},
   "source": [
    "# Handle Class Imbalance"
   ]
  },
  {
   "cell_type": "markdown",
   "metadata": {
    "heading_collapsed": true
   },
   "source": [
    "## Checking for Class Imbalance"
   ]
  },
  {
   "cell_type": "code",
   "execution_count": 323,
   "metadata": {
    "hidden": true
   },
   "outputs": [
    {
     "data": {
      "text/plain": [
       "30349    0\n",
       "Name: surge_multiplier, dtype: int64"
      ]
     },
     "execution_count": 323,
     "metadata": {},
     "output_type": "execute_result"
    }
   ],
   "source": [
    "y_train_val.head(1)"
   ]
  },
  {
   "cell_type": "code",
   "execution_count": 37,
   "metadata": {
    "hidden": true
   },
   "outputs": [
    {
     "name": "stdout",
     "output_type": "stream",
     "text": [
      "% of Surge Rides:   0.03%\n"
     ]
    },
    {
     "data": {
      "image/png": "[encoded data removed]",
      "text/plain": [
       "<Figure size 576x576 with 1 Axes>"
      ]
     },
     "metadata": {
      "needs_background": "light"
     },
     "output_type": "display_data"
    }
   ],
   "source": [
    "# Check if there's a class imbalance\n",
    "# Only look at the non-test data\n",
    "\n",
    "plt.figure(figsize=(8, 8))\n",
    "\n",
    "plt.title('Checking for Surge Pricing in 56,000 Rideshare Trips', weight='bold', fontsize=15)\n",
    "plt.xlabel('Surge', weight='bold', fontsize=15)\n",
    "plt.ylabel('Number of Rides', weight='bold', fontsize=15);\n",
    "\n",
    "plt.bar(x=['No Surge', 'Surge'],\n",
    "       height=[np.sum(y_train_val == 0),\n",
    "              np.sum(y_train_val != 0)],\n",
    "       color='#FF8C00')\n",
    "\n",
    "plt.grid(b=None)\n",
    "\n",
    "ratio_surge_to_no_surge = np.sum(y_train_val != 0) / (np.sum(y_train_val == 0) + np.sum(y_train_val != 0))\n",
    "\n",
    "print('% of Surge Rides: {:6.2f}%'.format(ratio_surge_to_no_surge))"
   ]
  },
  {
   "cell_type": "markdown",
   "metadata": {
    "hidden": true
   },
   "source": [
    ">As we can see, there are way more \"No Surge\" occurrences than \"Surge\""
   ]
  },
  {
   "cell_type": "markdown",
   "metadata": {
    "heading_collapsed": true
   },
   "source": [
    "## Oversamping\n",
    "Only oversample the training data!\n",
    "Oversample minority class (1, surge) until it's matched with the majority (0, no surge)"
   ]
  },
  {
   "cell_type": "code",
   "execution_count": 17,
   "metadata": {
    "hidden": true
   },
   "outputs": [],
   "source": [
    "# Concatenate our training data back together\n",
    "over_sample_train = pd.concat([X_train, y_train], axis=1)\n",
    "\n",
    "# Separate classes\n",
    "no_surge = over_sample_train[over_sample_train.surge_multiplier == 0]\n",
    "surge = over_sample_train[over_sample_train.surge_multiplier == 1]\n",
    "\n",
    "# Upsample minority class (1, surge)\n",
    "surge_upsampled = resample(surge,\n",
    "                          replace=True,  # Sample with replacement\n",
    "                          n_samples=len(no_surge),  # Match number in majority class\n",
    "                          random_state=4444)  # Reproducible results\n",
    "\n",
    "# Combine majority (no_surge) and upsampled minority (surge)\n",
    "upsampled = pd.concat([no_surge, surge_upsampled])\n",
    "\n",
    "# Uncomment to check new surge_multiplier counts\n",
    "# upsampled.surge_multiplier.value_counts()\n",
    "\n",
    "# Assign upsampled data back to training dataframes\n",
    "y_train = upsampled.surge_multiplier  # Target is surge_multiplier\n",
    "X_train = upsampled.drop('surge_multiplier', axis=1)  # Features are all the columns except surge_multiplier"
   ]
  },
  {
   "cell_type": "markdown",
   "metadata": {},
   "source": [
    "# MVP - Random Forest"
   ]
  },
  {
   "cell_type": "markdown",
   "metadata": {},
   "source": [
    "Tuning hyperparameters:"
   ]
  },
  {
   "cell_type": "code",
   "execution_count": 30,
   "metadata": {},
   "outputs": [],
   "source": [
    "# # Number of trees in random forest\n",
    "# n_estimators = [int(x) for x in np.linspace(start = 200, stop = 2000, num = 10)]\n",
    "\n",
    "# # Number of features to consider at every split\n",
    "# max_features = ['auto', 'sqrt']\n",
    "\n",
    "# # Maximum number of levels in tree\n",
    "# max_depth = [int(x) for x in np.linspace(10, 110, num = 11)]\n",
    "# max_depth.append(None)\n",
    "\n",
    "# # Minimum number of samples required to split a node\n",
    "# min_samples_split = [2, 5, 10]\n",
    "\n",
    "# # Minimum number of samples required at each leaf node\n",
    "# min_samples_leaf = [1, 2, 4]\n",
    "\n",
    "# # Method of selecting samples for training each tree\n",
    "# bootstrap = [True, False]\n",
    "\n",
    "# # Create the random grid\n",
    "# random_grid = {'n_estimators': n_estimators,\n",
    "#                'max_features': max_features,\n",
    "#                'max_depth': max_depth,\n",
    "#                'min_samples_split': min_samples_split,\n",
    "#                'min_samples_leaf': min_samples_leaf,\n",
    "#                'bootstrap': bootstrap}"
   ]
  },
  {
   "cell_type": "code",
   "execution_count": 31,
   "metadata": {},
   "outputs": [],
   "source": [
    "# # Use the random grid to search for best hyperparameters\n",
    "# # First create the base model to tune\n",
    "# rf = RandomForestClassifier()\n",
    "\n",
    "# # Random search of parameters, using 3 fold cross validation, \n",
    "# # search across 100 different combinations, and use all available cores\n",
    "# rf_random = RandomizedSearchCV(estimator = rf, \n",
    "#                                param_distributions = random_grid, \n",
    "#                                n_iter = 100, \n",
    "#                                cv = 3, \n",
    "#                                verbose=2, \n",
    "#                                random_state=42, \n",
    "#                                n_jobs = -1)"
   ]
  },
  {
   "cell_type": "code",
   "execution_count": 43,
   "metadata": {},
   "outputs": [],
   "source": [
    "random_forest_model = RandomForestClassifier(criterion='entropy', \n",
    "                                             min_samples_leaf=50,\n",
    "                                             n_estimators=100,\n",
    "                                             min_samples_split=4,\n",
    "                                             n_jobs=-1,\n",
    "                                             oob_score=True,\n",
    "                                             random_state=0)\n",
    "random_forest_model.fit(X_train, y_train);"
   ]
  },
  {
   "cell_type": "code",
   "execution_count": null,
   "metadata": {},
   "outputs": [],
   "source": [
    "# rf_random.best_params_"
   ]
  },
  {
   "cell_type": "code",
   "execution_count": 44,
   "metadata": {},
   "outputs": [
    {
     "name": "stdout",
     "output_type": "stream",
     "text": [
      "Random forest validation metrics: \n",
      " Accuracy: 0.7835 \n",
      " Precision: 0.1153 \n",
      " Recall: 0.9162 \n",
      " F1: 0.2048\n"
     ]
    }
   ],
   "source": [
    "# Get score metrics for Random Forest\n",
    "print('Random forest validation metrics: \\n Accuracy: %.4f \\n Precision: %.4f \\n Recall: %.4f \\n F1: %.4f' %\n",
    "        (accuracy_score(y_val, random_forest_model.predict(X_val)), \n",
    "         precision_score(y_val, random_forest_model.predict(X_val)), \n",
    "         recall_score(y_val, random_forest_model.predict(X_val)),\n",
    "         f1_score(y_val, random_forest_model.predict(X_val))\n",
    "        )\n",
    "     )"
   ]
  },
  {
   "cell_type": "code",
   "execution_count": 84,
   "metadata": {},
   "outputs": [
    {
     "name": "stdout",
     "output_type": "stream",
     "text": [
      "Random forest validation metrics: \n",
      " Accuracy: 0.7488 \n",
      " Precision: 0.1046 \n",
      " Recall: 0.9601 \n",
      " F1: 0.1887\n"
     ]
    }
   ],
   "source": [
    "# Get score metrics for Random Forest\n",
    "print('Random forest validation metrics: \\n Accuracy: %.4f \\n Precision: %.4f \\n Recall: %.4f \\n F1: %.4f' %\n",
    "        (accuracy_score(y_val, predicted), \n",
    "         precision_score(y_val, predicted), \n",
    "         recall_score(y_val, predicted),\n",
    "         f1_score(y_val, predicted)\n",
    "        )\n",
    "     )"
   ]
  },
  {
   "cell_type": "code",
   "execution_count": 81,
   "metadata": {},
   "outputs": [
    {
     "name": "stdout",
     "output_type": "stream",
     "text": [
      "0.0 0.5\n",
      "0.1 0.8280897925880386\n",
      "0.2 0.8370883367751321\n",
      "0.30000000000000004 0.8459321018360106\n",
      "0.4 0.8511073405523417\n",
      "0.5 0.8477618779704723\n",
      "0.6000000000000001 0.8304341514533196\n",
      "0.7000000000000001 0.7472894236706565\n",
      "0.8 0.574704899717428\n",
      "0.9 0.5028646865435891\n"
     ]
    }
   ],
   "source": [
    "threshold = 0.1\n",
    "\n",
    "for threshold in np.arange(0, 1, 0.1):\n",
    "\n",
    "    predicted_proba = random_forest_model.predict_proba(X_val)\n",
    "    predicted = (predicted_proba [:,1] >= threshold).astype('int')\n",
    "\n",
    "    print(threshold, roc_auc_score(y_val, predicted))"
   ]
  },
  {
   "cell_type": "code",
   "execution_count": 82,
   "metadata": {},
   "outputs": [],
   "source": [
    "threshold = 0.4\n",
    "\n",
    "predicted_proba = random_forest_model.predict_proba(X_val)\n",
    "predicted = (predicted_proba [:,1] >= threshold).astype('int')"
   ]
  },
  {
   "cell_type": "code",
   "execution_count": 120,
   "metadata": {},
   "outputs": [
    {
     "data": {
      "text/plain": [
       "(array([0, 1]), array([11064,   103]))"
      ]
     },
     "execution_count": 120,
     "metadata": {},
     "output_type": "execute_result"
    }
   ],
   "source": [
    "np.unique(random_forest_model.predict(X_val), return_counts=True)\n"
   ]
  },
  {
   "cell_type": "code",
   "execution_count": 121,
   "metadata": {},
   "outputs": [
    {
     "data": {
      "text/plain": [
       "(array([0, 1]), array([10853,   314]))"
      ]
     },
     "execution_count": 121,
     "metadata": {},
     "output_type": "execute_result"
    }
   ],
   "source": [
    "np.unique(y_val, return_counts=True)\n"
   ]
  },
  {
   "cell_type": "markdown",
   "metadata": {},
   "source": [
    "## Random Forest - ROC Curve"
   ]
  },
  {
   "cell_type": "code",
   "execution_count": 85,
   "metadata": {},
   "outputs": [
    {
     "data": {
      "image/png": "[encoded data removed]",
      "text/plain": [
       "<Figure size 432x288 with 1 Axes>"
      ]
     },
     "metadata": {
      "needs_background": "light"
     },
     "output_type": "display_data"
    }
   ],
   "source": [
    "# IMPORTANT: first argument is true values, second argument is predicted probabilities\n",
    "\n",
    "# we pass y_test and y_pred_prob\n",
    "# we do not use y_pred_class, because it will give incorrect results without generating an error\n",
    "# roc_curve returns 3 objects fpr, tpr, thresholds\n",
    "# fpr: false positive rate\n",
    "# tpr: true positive rate\n",
    "fpr, tpr, thresholds = roc_curve(y_val, random_forest_model.predict(X_val))\n",
    "\n",
    "plt.plot(fpr, tpr)\n",
    "plt.xlim([0.0, 1.0])\n",
    "plt.ylim([0.0, 1.0])\n",
    "plt.rcParams['font.size'] = 12\n",
    "plt.title('ROC curve for RF')\n",
    "plt.xlabel('False Positive Rate (1 - Specificity)')\n",
    "plt.ylabel('True Positive Rate (Sensitivity)')\n",
    "plt.grid(True)"
   ]
  },
  {
   "cell_type": "markdown",
   "metadata": {
    "heading_collapsed": true
   },
   "source": [
    "## Random Forest - Confusion Matrix"
   ]
  },
  {
   "cell_type": "code",
   "execution_count": 16,
   "metadata": {
    "hidden": true
   },
   "outputs": [
    {
     "data": {
      "image/png": "[encoded data removed]",
      "text/plain": [
       "<Figure size 900x600 with 2 Axes>"
      ]
     },
     "metadata": {
      "needs_background": "light"
     },
     "output_type": "display_data"
    }
   ],
   "source": [
    "# Print confusion matrix for Random Forest\n",
    "random_forest_model_confusion = confusion_matrix(y_val, random_forest_model.predict(X_val))\n",
    "plt.figure(dpi=150)\n",
    "sns.heatmap(random_forest_model_confusion, cmap=plt.cm.Reds, annot=True, square=True,\n",
    "           xticklabels=['No Surge', 'Surge'],\n",
    "           yticklabels=['No Surge', 'Surge'])\n",
    "\n",
    "plt.xlabel('Predicted')\n",
    "plt.ylabel('Actual')\n",
    "plt.title('Random Forest confusion matrix');\n",
    "\n"
   ]
  },
  {
   "cell_type": "markdown",
   "metadata": {
    "heading_collapsed": true
   },
   "source": [
    "# MVP - Logestic Regression"
   ]
  },
  {
   "cell_type": "code",
   "execution_count": 20,
   "metadata": {
    "hidden": true
   },
   "outputs": [
    {
     "name": "stderr",
     "output_type": "stream",
     "text": [
      "/Users/samad/anaconda3/lib/python3.7/site-packages/sklearn/linear_model/logistic.py:432: FutureWarning: Default solver will be changed to 'lbfgs' in 0.22. Specify a solver to silence this warning.\n",
      "  FutureWarning)\n"
     ]
    }
   ],
   "source": [
    "logit = LogisticRegression(C = 1)  # Create logistic model. C is inverse regularization term\n",
    "logit.fit(X_train, y_train);  # Fit model to training data"
   ]
  },
  {
   "cell_type": "code",
   "execution_count": 21,
   "metadata": {
    "hidden": true
   },
   "outputs": [
    {
     "name": "stdout",
     "output_type": "stream",
     "text": [
      "Logestic regression validation metrics: \n",
      " Accuracy: 0.7236 \n",
      " Precision: 0.0960 \n",
      " Recall: 0.9607 \n",
      " F1: 0.1746\n"
     ]
    }
   ],
   "source": [
    "# Get score metrics for Logestic Regression\n",
    "print('Logestic regression validation metrics: \\n Accuracy: %.4f \\n Precision: %.4f \\n Recall: %.4f \\n F1: %.4f' %\n",
    "        (accuracy_score(y_val, logit.predict(X_val)), \n",
    "         precision_score(y_val, logit.predict(X_val)), \n",
    "         recall_score(y_val, logit.predict(X_val)),\n",
    "         f1_score(y_val, logit.predict(X_val))\n",
    "        )\n",
    "     )"
   ]
  },
  {
   "cell_type": "code",
   "execution_count": 20,
   "metadata": {
    "hidden": true
   },
   "outputs": [
    {
     "data": {
      "image/png": "[encoded data removed]",
      "text/plain": [
       "<Figure size 900x600 with 2 Axes>"
      ]
     },
     "metadata": {
      "needs_background": "light"
     },
     "output_type": "display_data"
    }
   ],
   "source": [
    "# Print confusion matrix for Random Forest\n",
    "logit_confusion = confusion_matrix(y_val, logit.predict(X_val))\n",
    "plt.figure(dpi=150)\n",
    "sns.heatmap(logit_confusion, cmap=plt.cm.Reds, annot=True, square=True,\n",
    "           xticklabels=['No Surge', 'Surge'],\n",
    "           yticklabels=['No Surge', 'Surge'])\n",
    "\n",
    "plt.xlabel('Predicted')\n",
    "plt.ylabel('Actual')\n",
    "plt.title('Logestic Regression confusion matrix');\n"
   ]
  },
  {
   "cell_type": "markdown",
   "metadata": {},
   "source": [
    "# MVP - Naive Bayes"
   ]
  },
  {
   "cell_type": "markdown",
   "metadata": {},
   "source": [
    "## Naive Bayes - Scores"
   ]
  },
  {
   "cell_type": "code",
   "execution_count": 26,
   "metadata": {},
   "outputs": [],
   "source": [
    "nb_model = GaussianNB()\n",
    "nb_model.fit(X_train, y_train);"
   ]
  },
  {
   "cell_type": "code",
   "execution_count": 27,
   "metadata": {},
   "outputs": [
    {
     "name": "stdout",
     "output_type": "stream",
     "text": [
      "Naive Bayes validation metrics: \n",
      " Accuracy: 0.6657 \n",
      " Precision: 0.0833 \n",
      " Recall: 0.9988 \n",
      " F1: 0.1538\n"
     ]
    }
   ],
   "source": [
    "# Get score metrics for Naive Bayes\n",
    "print('Naive Bayes validation metrics: \\n Accuracy: %.4f \\n Precision: %.4f \\n Recall: %.4f \\n F1: %.4f' %\n",
    "        (accuracy_score(y_val, nb_model.predict(X_val)), \n",
    "         precision_score(y_val, nb_model.predict(X_val)), \n",
    "         recall_score(y_val, nb_model.predict(X_val)),\n",
    "         f1_score(y_val, nb_model.predict(X_val))\n",
    "        )\n",
    "     )"
   ]
  },
  {
   "cell_type": "code",
   "execution_count": null,
   "metadata": {},
   "outputs": [],
   "source": []
  },
  {
   "cell_type": "markdown",
   "metadata": {},
   "source": [
    "# MVP - Decision Tree"
   ]
  },
  {
   "cell_type": "markdown",
   "metadata": {},
   "source": [
    "## Decision Tree - Scores"
   ]
  },
  {
   "cell_type": "code",
   "execution_count": 18,
   "metadata": {},
   "outputs": [],
   "source": [
    "decision_tree_model = DecisionTreeClassifier(criterion='gini', random_state=0)\n",
    "decision_tree_model.fit(X_train, y_train);"
   ]
  },
  {
   "cell_type": "code",
   "execution_count": 19,
   "metadata": {},
   "outputs": [
    {
     "name": "stdout",
     "output_type": "stream",
     "text": [
      "Decision Tree validation metrics: \n",
      " Accuracy: 0.9770 \n",
      " Precision: 0.6317 \n",
      " Recall: 0.5885 \n",
      " F1: 0.6093\n"
     ]
    }
   ],
   "source": [
    "# Get score metrics for Decision Tree\n",
    "print('Decision Tree validation metrics: \\n Accuracy: %.4f \\n Precision: %.4f \\n Recall: %.4f \\n F1: %.4f' %\n",
    "        (accuracy_score(y_val, decision_tree_model.predict(X_val)), \n",
    "         precision_score(y_val, decision_tree_model.predict(X_val)), \n",
    "         recall_score(y_val, decision_tree_model.predict(X_val)),\n",
    "         f1_score(y_val, decision_tree_model.predict(X_val))\n",
    "        )\n",
    "     )"
   ]
  },
  {
   "cell_type": "code",
   "execution_count": 97,
   "metadata": {},
   "outputs": [
    {
     "data": {
      "image/png": "[encoded data removed]",
      "text/plain": [
       "<Figure size 900x600 with 2 Axes>"
      ]
     },
     "metadata": {
      "needs_background": "light"
     },
     "output_type": "display_data"
    }
   ],
   "source": [
    "# Print confusion matrix for Random Forest\n",
    "random_forest_model_confusion = confusion_matrix(y_val, decision_tree_model.predict(X_val))\n",
    "plt.figure(dpi=150)\n",
    "sns.heatmap(random_forest_model_confusion, cmap=plt.cm.Reds, annot=True, square=True,\n",
    "           xticklabels=['No Surge', 'Surge'],\n",
    "           yticklabels=['No Surge', 'Surge'])\n",
    "\n",
    "plt.xlabel('Predicted')\n",
    "plt.ylabel('Actual')\n",
    "plt.title('Decision Tree Confusion Matrix');"
   ]
  },
  {
   "cell_type": "markdown",
   "metadata": {},
   "source": [
    "# MVP - Gradient Boosting"
   ]
  },
  {
   "cell_type": "markdown",
   "metadata": {},
   "source": [
    "## Gradient Boosting - Scores"
   ]
  },
  {
   "cell_type": "code",
   "execution_count": 24,
   "metadata": {
    "scrolled": true
   },
   "outputs": [
    {
     "name": "stderr",
     "output_type": "stream",
     "text": [
      "/Users/samad/anaconda3/lib/python3.7/site-packages/xgboost/core.py:587: FutureWarning: Series.base is deprecated and will be removed in a future version\n",
      "  if getattr(data, 'base', None) is not None and \\\n",
      "/Users/samad/anaconda3/lib/python3.7/site-packages/xgboost/core.py:588: FutureWarning: Series.base is deprecated and will be removed in a future version\n",
      "  data.base is not None and isinstance(data, np.ndarray) \\\n"
     ]
    },
    {
     "name": "stdout",
     "output_type": "stream",
     "text": [
      "[19:30:30] WARNING: src/objective/regression_obj.cu:152: reg:linear is now deprecated in favor of reg:squarederror.\n"
     ]
    }
   ],
   "source": [
    "gbm_model = xgb.XGBRegressor( \n",
    "                       n_estimators=30000, # Arbitrary large number\n",
    "                       max_depth=3,\n",
    "                       objective=\"reg:linear\",\n",
    "                       learning_rate=.1, \n",
    "                       subsample=1,\n",
    "                       min_child_weight=1,\n",
    "                       colsample_bytree=.8\n",
    "                      )\n",
    "\n",
    "# gbm_model = xgb.XGBRegressor( \n",
    "#                        n_estimators=10000, # Arbitrary large number\n",
    "#                        max_depth=2,\n",
    "#                        objective=\"reg:linear\",\n",
    "#                        learning_rate=.1, \n",
    "#                        subsample=1,\n",
    "#                        min_child_weight=1,\n",
    "#                        colsample_bytree=.8\n",
    "#                       )\n",
    "\n",
    "eval_set = [(X_train, y_train), (X_val, y_val)] # Tracking train/validation error as we go\n",
    "\n",
    "fit_gbm_model = gbm_model.fit( \n",
    "                    X_train, y_train, \n",
    "                    eval_set=eval_set,\n",
    "                    eval_metric='rmse',\n",
    "                    early_stopping_rounds=20,\n",
    "                    verbose=False  # Gives output log as below\n",
    "                   );\n",
    "\n",
    "# By default, the XGboost .predict gives us probabilities. So we're rounding to 0 or 1 ( therefore: threshold 0.5)\n",
    "gbm_model_predictions = [round(value) for value in gbm_model.predict(X_val)]"
   ]
  },
  {
   "cell_type": "code",
   "execution_count": 25,
   "metadata": {},
   "outputs": [
    {
     "name": "stdout",
     "output_type": "stream",
     "text": [
      "Gradient Boost validation metrics: \n",
      " Accuracy: 0.6935 \n",
      " Precision: 0.0889 \n",
      " Recall: 0.9807 \n",
      " F1: 0.1630\n"
     ]
    }
   ],
   "source": [
    "# Get score metrics for Gradient Boost\n",
    "print('Gradient Boost validation metrics: \\n Accuracy: %.4f \\n Precision: %.4f \\n Recall: %.4f \\n F1: %.4f' %\n",
    "        (accuracy_score(y_val, gbm_model_predictions), \n",
    "         precision_score(y_val, gbm_model_predictions), \n",
    "         recall_score(y_val, gbm_model_predictions),\n",
    "         f1_score(y_val, gbm_model_predictions)\n",
    "        )\n",
    "     )"
   ]
  },
  {
   "cell_type": "code",
   "execution_count": 95,
   "metadata": {},
   "outputs": [
    {
     "data": {
      "text/plain": [
       "<matplotlib.legend.Legend at 0x1a2d8f3e80>"
      ]
     },
     "execution_count": 95,
     "metadata": {},
     "output_type": "execute_result"
    },
    {
     "data": {
      "image/png": "[encoded data removed]",
      "text/plain": [
       "<Figure size 720x504 with 1 Axes>"
      ]
     },
     "metadata": {
      "needs_background": "light"
     },
     "output_type": "display_data"
    }
   ],
   "source": [
    "# IMPORTANT: first argument is true values, second argument is predicted probabilities\n",
    "\n",
    "# we pass y_test and y_pred_prob\n",
    "# we do not use y_pred_class, because it will give incorrect results without generating an error\n",
    "# roc_curve returns 3 objects fpr, tpr, thresholds\n",
    "# fpr: false positive rate\n",
    "# tpr: true positive rate\n",
    "fpr_rf, tpr_rf, thresholds_rf = roc_curve(y_val, random_forest_model.predict(X_val))\n",
    "fpr_nb, tpr_nb, thresholds_nb = roc_curve(y_val, nb_model.predict(X_val))\n",
    "fpr_dt, tpr_dt, thresholds_dt = roc_curve(y_val, decision_tree_model.predict(X_val))\n",
    "\n",
    "plt.figure(figsize=(10,7))\n",
    "plt.plot(fpr_rf, tpr_rf)\n",
    "plt.plot(fpr_nb, tpr_nb)\n",
    "plt.plot(fpr_dt, tpr_dt)\n",
    "plt.xlim([0.0, 1.0])\n",
    "plt.ylim([0.0, 1.0])\n",
    "plt.rcParams['font.size'] = 12\n",
    "plt.title('ROC curve')\n",
    "plt.xlabel('False Positive Rate (1 - Specificity)')\n",
    "plt.ylabel('True Positive Rate (Sensitivity)')\n",
    "plt.grid(False)\n",
    "plt.legend(['RF', 'NB', 'DT'])\n",
    "\n"
   ]
  },
  {
   "cell_type": "code",
   "execution_count": null,
   "metadata": {},
   "outputs": [],
   "source": []
  }
 ],
 "metadata": {
  "kernelspec": {
   "display_name": "Python 3",
   "language": "python",
   "name": "python3"
  },
  "language_info": {
   "codemirror_mode": {
    "name": "ipython",
    "version": 3
   },
   "file_extension": ".py",
   "mimetype": "text/x-python",
   "name": "python",
   "nbconvert_exporter": "python",
   "pygments_lexer": "ipython3",
   "version": "3.7.3"
  },
  "toc": {
   "base_numbering": 1,
   "nav_menu": {},
   "number_sections": true,
   "sideBar": true,
   "skip_h1_title": false,
   "title_cell": "Table of Contents",
   "title_sidebar": "Contents",
   "toc_cell": false,
   "toc_position": {},
   "toc_section_display": true,
   "toc_window_display": false
  }
 },
 "nbformat": 4,
 "nbformat_minor": 2
}
